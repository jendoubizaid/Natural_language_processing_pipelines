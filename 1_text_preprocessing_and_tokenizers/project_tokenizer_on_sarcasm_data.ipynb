{
 "cells": [
  {
   "cell_type": "markdown",
   "metadata": {},
   "source": [
    "# read sarcasm json data"
   ]
  },
  {
   "cell_type": "code",
   "execution_count": 1,
   "metadata": {},
   "outputs": [],
   "source": [
    "import json\n",
    "\n",
    "with open(\"sarcasm.json\",\"r\") as f:\n",
    "    datastore=json.load(f)\n",
    "\n",
    "sentences=[]\n",
    "labels=[]\n",
    "urls=[]\n",
    "for item in datastore:\n",
    "    sentences.append(item[\"headline\"])\n",
    "    labels.append(item[\"is_sarcastic\"])\n",
    "    urls.append(item[\"article_link\"])    "
   ]
  },
  {
   "cell_type": "markdown",
   "metadata": {},
   "source": [
    "# tokenize the input text"
   ]
  },
  {
   "cell_type": "code",
   "execution_count": 6,
   "metadata": {},
   "outputs": [
    {
     "name": "stdout",
     "output_type": "stream",
     "text": [
      "nbr of words: 29657\n",
      "mom starting to fear son's web series closest thing she will have to grandchild\n",
      "[[  308 15115   679 ...     0     0     0]\n",
      " [    4  8435  3338 ...     0     0     0]\n",
      " [  145   838     2 ...     0     0     0]\n",
      " ...\n",
      " [10735     9    68 ...     0     0     0]\n",
      " [ 1541   392  4164 ...     0     0     0]\n",
      " [29656  1647     6 ...     0     0     0]]\n",
      "(26709, 40)\n"
     ]
    }
   ],
   "source": [
    "from tensorflow.keras.preprocessing.text import Tokenizer\n",
    "from tensorflow.keras.preprocessing.sequence import pad_sequences\n",
    "\n",
    "tokenizer=Tokenizer(oov_token=\"<OOV>\")\n",
    "tokenizer.fit_on_texts(sentences)\n",
    "word_index = tokenizer.word_index\n",
    "print(\"nbr of words:\",len(word_index))\n",
    "#print(word_index)\n",
    "\n",
    "sequences = tokenizer.texts_to_sequences(sentences)\n",
    "padded = pad_sequences(sequences, padding='post')\n",
    "\n",
    "print(sentences[2])\n",
    "print(padded)\n",
    "print(padded.shape)"
   ]
  }
 ],
 "metadata": {
  "kernelspec": {
   "display_name": "Python 3",
   "language": "python",
   "name": "python3"
  },
  "language_info": {
   "codemirror_mode": {
    "name": "ipython",
    "version": 3
   },
   "file_extension": ".py",
   "mimetype": "text/x-python",
   "name": "python",
   "nbconvert_exporter": "python",
   "pygments_lexer": "ipython3",
   "version": "3.5.3"
  }
 },
 "nbformat": 4,
 "nbformat_minor": 2
}
