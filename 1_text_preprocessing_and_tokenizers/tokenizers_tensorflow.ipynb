{
 "cells": [
  {
   "cell_type": "code",
   "execution_count": 1,
   "metadata": {},
   "outputs": [],
   "source": [
    "from tensorflow.keras.preprocessing.text import Tokenizer"
   ]
  },
  {
   "cell_type": "code",
   "execution_count": 3,
   "metadata": {},
   "outputs": [
    {
     "name": "stdout",
     "output_type": "stream",
     "text": [
      "{'i': 4, 'cat': 6, 'dog': 3, 'you': 5, 'my': 1, 'think': 8, 'love': 2, 'is': 9, 'do': 7, 'amazing': 10}\n"
     ]
    }
   ],
   "source": [
    "sentenses = [\n",
    "    'I love my dog',\n",
    "    'i, love my cat',\n",
    "    'You love my dog!',\n",
    "    'Do you think my dog is amazing'\n",
    "]\n",
    "tokenizer=Tokenizer(num_words=100)# num words limit the size of your vector especially when you have a large corpus. Here it will use only the 100 most frequent words\n",
    "tokenizer.fit_on_texts(sentenses)\n",
    "word_index = tokenizer.word_index\n",
    "print(word_index)"
   ]
  },
  {
   "cell_type": "markdown",
   "metadata": {},
   "source": [
    "the tensorflow tokenizer preform the following transformations:\n",
    "* convert text into lowercase caracters(i and I will be represented using the same token)\n",
    "* remove ponctuations(example: dog! and dog are tokenized the same way)"
   ]
  },
  {
   "cell_type": "markdown",
   "metadata": {},
   "source": [
    "# transform text to sequence"
   ]
  },
  {
   "cell_type": "code",
   "execution_count": 4,
   "metadata": {},
   "outputs": [
    {
     "name": "stdout",
     "output_type": "stream",
     "text": [
      "[[4, 2, 1, 3], [4, 2, 1, 6], [5, 2, 1, 3], [7, 5, 8, 1, 3, 9, 10]]\n"
     ]
    }
   ],
   "source": [
    "sequences = tokenizer.texts_to_sequences(sentenses)\n",
    "print(sequences)"
   ]
  },
  {
   "cell_type": "markdown",
   "metadata": {},
   "source": [
    "Here the first phrase 'I love my dog' is transformed to the following list [4, 2, 1, 3] "
   ]
  },
  {
   "cell_type": "markdown",
   "metadata": {},
   "source": [
    "# tokenize new sentences"
   ]
  },
  {
   "cell_type": "code",
   "execution_count": 5,
   "metadata": {},
   "outputs": [
    {
     "name": "stdout",
     "output_type": "stream",
     "text": [
      "[[4, 2, 1, 3], [1, 3, 1]]\n"
     ]
    }
   ],
   "source": [
    "test_data = [\n",
    "    'i really love my dog',\n",
    "    'my dog loves my manatee'\n",
    "]\n",
    "test_seq = tokenizer.texts_to_sequences(test_data)\n",
    "print(test_seq)"
   ]
  },
  {
   "cell_type": "markdown",
   "metadata": {},
   "source": [
    "In the first phrase, we notice that we have a new word: 'really'.\n",
    "\n",
    "Since the tokenizer didn't encounter this word in the training corpus, it will skip it.\n",
    "\n",
    "That's why the result sequence [4, 2, 1, 3] has only 4 numbers instead of 5.\n",
    "\n",
    "Also the sentence 'my dog loves my manatee' will be transformed to 'my dog my' => [1, 3, 1] because 'loves' and manatee are both new words"
   ]
  },
  {
   "cell_type": "markdown",
   "metadata": {},
   "source": [
    "### use a special token to encode new words: "
   ]
  },
  {
   "cell_type": "code",
   "execution_count": 8,
   "metadata": {},
   "outputs": [
    {
     "name": "stdout",
     "output_type": "stream",
     "text": [
      "{'i': 5, 'cat': 7, 'dog': 4, 'is': 10, 'you': 6, 'my': 2, 'think': 9, 'love': 3, 'do': 8, '<OOV>': 1, 'amazing': 11}\n",
      "[[5, 1, 3, 2, 4], [2, 4, 1, 2, 1]]\n"
     ]
    }
   ],
   "source": [
    "sentenses = [\n",
    "    'I love my dog',\n",
    "    'i, love my cat',\n",
    "    'You love my dog!',\n",
    "    'Do you think my dog is amazing'\n",
    "]\n",
    "tokenizer=Tokenizer(num_words=100,oov_token=\"<OOV>\")# oov_token specify the token we will use to encode out of vocabulary words \n",
    "tokenizer.fit_on_texts(sentenses)\n",
    "word_index = tokenizer.word_index\n",
    "test_data = [\n",
    "    'i really love my dog',\n",
    "    'my dog loves my manatee'\n",
    "]\n",
    "test_seq = tokenizer.texts_to_sequences(test_data)\n",
    "print(word_index)\n",
    "print(test_seq)"
   ]
  },
  {
   "cell_type": "markdown",
   "metadata": {},
   "source": [
    "=> now our tokenizer is assigning '<oov>' token to unknown words"
   ]
  },
  {
   "cell_type": "markdown",
   "metadata": {},
   "source": [
    "# Padding"
   ]
  },
  {
   "cell_type": "markdown",
   "metadata": {},
   "source": [
    "Before training your neural network, you want to make sure that the size of all sentences is uniform. \n",
    "\n",
    "In order to do that, we can use the 'pad_sequences' function."
   ]
  },
  {
   "cell_type": "code",
   "execution_count": 11,
   "metadata": {},
   "outputs": [
    {
     "name": "stdout",
     "output_type": "stream",
     "text": [
      "[[ 0  0  0  4  2  1  3]\n",
      " [ 0  0  0  4  2  1  6]\n",
      " [ 0  0  0  5  2  1  3]\n",
      " [ 7  5  8  1  3  9 10]]\n"
     ]
    }
   ],
   "source": [
    "from tensorflow.keras.preprocessing.sequence import pad_sequences\n",
    "padded = pad_sequences(sequences)\n",
    "print(padded)"
   ]
  },
  {
   "cell_type": "markdown",
   "metadata": {},
   "source": [
    "0 is added in the beginning of each phrase to make all sequences uniform."
   ]
  },
  {
   "cell_type": "code",
   "execution_count": 12,
   "metadata": {},
   "outputs": [
    {
     "name": "stdout",
     "output_type": "stream",
     "text": [
      "[[ 4  2  1  3  0  0  0]\n",
      " [ 4  2  1  6  0  0  0]\n",
      " [ 5  2  1  3  0  0  0]\n",
      " [ 7  5  8  1  3  9 10]]\n"
     ]
    }
   ],
   "source": [
    "padded = pad_sequences(sequences, padding='post')\n",
    "print(padded)"
   ]
  },
  {
   "cell_type": "markdown",
   "metadata": {},
   "source": [
    "=> you can also add the padding at the end of the seq by using \"padding = 'post'\""
   ]
  },
  {
   "cell_type": "code",
   "execution_count": 13,
   "metadata": {},
   "outputs": [
    {
     "name": "stdout",
     "output_type": "stream",
     "text": [
      "[[ 4  2  1  3  0]\n",
      " [ 4  2  1  6  0]\n",
      " [ 5  2  1  3  0]\n",
      " [ 8  1  3  9 10]]\n"
     ]
    }
   ],
   "source": [
    "padded = pad_sequences(sequences, padding='post',maxlen=5)\n",
    "print(padded)"
   ]
  },
  {
   "cell_type": "markdown",
   "metadata": {},
   "source": [
    "if you want your sentenses to have a maximum of 5 words, you can use maxlen=5 "
   ]
  },
  {
   "cell_type": "code",
   "execution_count": 17,
   "metadata": {},
   "outputs": [
    {
     "name": "stdout",
     "output_type": "stream",
     "text": [
      "[[4 2 1 3 0]\n",
      " [4 2 1 6 0]\n",
      " [5 2 1 3 0]\n",
      " [7 5 8 1 3]]\n"
     ]
    }
   ],
   "source": [
    "padded = pad_sequences(sequences, padding='post',truncating='post',maxlen=5)\n",
    "print(padded)"
   ]
  },
  {
   "cell_type": "markdown",
   "metadata": {},
   "source": [
    "If you want to loose words from the end of the sentence, use truncating='post'"
   ]
  },
  {
   "cell_type": "code",
   "execution_count": null,
   "metadata": {},
   "outputs": [],
   "source": []
  }
 ],
 "metadata": {
  "kernelspec": {
   "display_name": "Python 3",
   "language": "python",
   "name": "python3"
  },
  "language_info": {
   "codemirror_mode": {
    "name": "ipython",
    "version": 3
   },
   "file_extension": ".py",
   "mimetype": "text/x-python",
   "name": "python",
   "nbconvert_exporter": "python",
   "pygments_lexer": "ipython3",
   "version": "3.5.3"
  }
 },
 "nbformat": 4,
 "nbformat_minor": 2
}
